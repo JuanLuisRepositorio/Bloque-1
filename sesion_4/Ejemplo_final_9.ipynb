{
 "cells": [
  {
   "cell_type": "markdown",
   "metadata": {},
   "source": [
    "# Ejemplo recopilatorio"
   ]
  },
  {
   "cell_type": "markdown",
   "metadata": {},
   "source": [
    "## 1.- Funciones y librerías"
   ]
  },
  {
   "cell_type": "markdown",
   "metadata": {},
   "source": [
    "## 1.1.- Importamos librerías "
   ]
  },
  {
   "cell_type": "code",
   "execution_count": 1,
   "metadata": {},
   "outputs": [],
   "source": [
    "import csv\n",
    "import statistics"
   ]
  },
  {
   "cell_type": "markdown",
   "metadata": {},
   "source": [
    "## 1.2.- Creamos una función "
   ]
  },
  {
   "cell_type": "code",
   "execution_count": 2,
   "metadata": {},
   "outputs": [],
   "source": [
    "def numero_mayor(listado):\n",
    "    listado.sort(reverse = True)\n",
    "    return listado[0]"
   ]
  },
  {
   "cell_type": "markdown",
   "metadata": {},
   "source": [
    "## 1.3.- Variable de control"
   ]
  },
  {
   "cell_type": "markdown",
   "metadata": {},
   "source": [
    "Definimos el valor de nuestra variable inicial"
   ]
  },
  {
   "cell_type": "code",
   "execution_count": 3,
   "metadata": {},
   "outputs": [],
   "source": [
    "control = 20000000"
   ]
  },
  {
   "cell_type": "markdown",
   "metadata": {},
   "source": [
    "# 2.- Abrimos nuestro fichero de texto"
   ]
  },
  {
   "cell_type": "markdown",
   "metadata": {},
   "source": [
    "Vemos que archivos tenemos en nuestra carpeta de trabajo"
   ]
  },
  {
   "cell_type": "code",
   "execution_count": 4,
   "metadata": {
    "scrolled": false
   },
   "outputs": [
    {
     "name": "stdout",
     "output_type": "stream",
     "text": [
      "Ejemplo_3_cabeceras.ipynb       ejemplo_6_imagenes_correo.ipynb  prueba.py\r\n",
      "Ejemplo_3_hipervinculos.ipynb   Ejemplo_final.ipynb\r\n",
      "Ejemplo_5_negrita_listas.ipynb  ejercicio_2.ipynb\r\n"
     ]
    }
   ],
   "source": [
    "ls"
   ]
  },
  {
   "cell_type": "markdown",
   "metadata": {},
   "source": [
    "Creamos una lista vacia"
   ]
  },
  {
   "cell_type": "code",
   "execution_count": 6,
   "metadata": {},
   "outputs": [],
   "source": [
    "lista_numeros = []"
   ]
  },
  {
   "cell_type": "markdown",
   "metadata": {},
   "source": [
    "Cargamos el archivo que me interesa"
   ]
  },
  {
   "cell_type": "code",
   "execution_count": 7,
   "metadata": {},
   "outputs": [],
   "source": [
    "with open('./lista_numeros.txt') as csv_file:\n",
    "    csv_reader = csv.reader(csv_file, delimiter='\\n')\n",
    "    for row in csv_reader:\n",
    "        lista_numeros.append(int(row[0]))"
   ]
  },
  {
   "cell_type": "markdown",
   "metadata": {},
   "source": [
    "# 3.- Cálculos"
   ]
  },
  {
   "cell_type": "markdown",
   "metadata": {},
   "source": [
    "Visualizamos los datos"
   ]
  },
  {
   "cell_type": "code",
   "execution_count": 8,
   "metadata": {},
   "outputs": [
    {
     "data": {
      "text/plain": [
       "[15437,\n",
       " 169985,\n",
       " 35305,\n",
       " 315,\n",
       " 63250,\n",
       " 20309,\n",
       " 0,\n",
       " 14280,\n",
       " 10820,\n",
       " 4561,\n",
       " 558,\n",
       " 3724,\n",
       " 16248434,\n",
       " 7650548,\n",
       " 94795,\n",
       " 4225939,\n",
       " 558,\n",
       " 16248434,\n",
       " 558,\n",
       " 558,\n",
       " 0,\n",
       " 68456,\n",
       " 312443,\n",
       " 1257397,\n",
       " 188415,\n",
       " 28187,\n",
       " 8408,\n",
       " 14712,\n",
       " 1539,\n",
       " 3724,\n",
       " 591458,\n",
       " 9114,\n",
       " 9114,\n",
       " 0,\n",
       " 1200876,\n",
       " 68456,\n",
       " 2223555,\n",
       " 0,\n",
       " 62875,\n",
       " 3105308,\n",
       " 3105308,\n",
       " 0,\n",
       " 7650548,\n",
       " 13274710,\n",
       " 0,\n",
       " 13496879,\n",
       " 259028,\n",
       " 156640,\n",
       " 2257,\n",
       " 28187,\n",
       " 19334771,\n",
       " 8767370,\n",
       " 45129,\n",
       " 1819714,\n",
       " 8408,\n",
       " 0,\n",
       " 265088,\n",
       " 4225939,\n",
       " 1539,\n",
       " 64450,\n",
       " 87466,\n",
       " 87466,\n",
       " 30994,\n",
       " 62875,\n",
       " 1819714,\n",
       " 13274710,\n",
       " 5254,\n",
       " 0,\n",
       " 0,\n",
       " 1074424,\n",
       " 5254,\n",
       " 1074424,\n",
       " 206,\n",
       " 2145,\n",
       " 519,\n",
       " 519,\n",
       " 8132,\n",
       " 0,\n",
       " 0,\n",
       " 0,\n",
       " 10663,\n",
       " 1428,\n",
       " 9097,\n",
       " 12777,\n",
       " 4801446,\n",
       " 8132,\n",
       " 79565,\n",
       " 206,\n",
       " 0,\n",
       " 23448476,\n",
       " 35718,\n",
       " 0,\n",
       " 79565,\n",
       " 1428,\n",
       " 4801446,\n",
       " 23448476,\n",
       " 78813,\n",
       " 0,\n",
       " 0,\n",
       " 0,\n",
       " 2145,\n",
       " 0,\n",
       " 78813,\n",
       " 35718,\n",
       " 0,\n",
       " 10663,\n",
       " 9097,\n",
       " 12777,\n",
       " 211359,\n",
       " 70828,\n",
       " 72168,\n",
       " 23389,\n",
       " 238]"
      ]
     },
     "execution_count": 8,
     "metadata": {},
     "output_type": "execute_result"
    }
   ],
   "source": [
    "lista_numeros"
   ]
  },
  {
   "cell_type": "markdown",
   "metadata": {},
   "source": [
    "Si no hay ningún valor mayor que 100 calculamos la media en caso contrario calculamos la mediana"
   ]
  },
  {
   "cell_type": "code",
   "execution_count": 9,
   "metadata": {},
   "outputs": [
    {
     "data": {
      "text/plain": [
       "23448476"
      ]
     },
     "execution_count": 9,
     "metadata": {},
     "output_type": "execute_result"
    }
   ],
   "source": [
    "numero_mayor(lista_numeros)"
   ]
  },
  {
   "cell_type": "code",
   "execution_count": 10,
   "metadata": {},
   "outputs": [
    {
     "name": "stdout",
     "output_type": "stream",
     "text": [
      "La mediana es: 15437\n"
     ]
    }
   ],
   "source": [
    "if lista_numeros != []:\n",
    "    if numero_mayor(lista_numeros) < control:\n",
    "        resultado = statistics.mean(lista_numeros)\n",
    "        print(\"La media es: \" + str(resultado))\n",
    "    else:\n",
    "        resultado = statistics.median(lista_numeros)\n",
    "        print(\"La mediana es: \" + str(resultado))\n",
    "else:\n",
    "    print(\"Nuestra lista de númeroes esta vacia\")    "
   ]
  },
  {
   "attachments": {},
   "cell_type": "markdown",
   "metadata": {},
   "source": [
    "[Creado por: **Juan Luis Corredor Ardoy**](mailto:juanluis.corredorardoy.ext@telefonica.com)"
   ]
  },
  {
   "cell_type": "markdown",
   "metadata": {},
   "source": [
    "![imagen](https://upload.wikimedia.org/wikipedia/commons/2/25/Telefonica_Logo.svg)"
   ]
  }
 ],
 "metadata": {
  "kernelspec": {
   "display_name": "Python 3",
   "language": "python",
   "name": "python3"
  },
  "language_info": {
   "codemirror_mode": {
    "name": "ipython",
    "version": 3
   },
   "file_extension": ".py",
   "mimetype": "text/x-python",
   "name": "python",
   "nbconvert_exporter": "python",
   "pygments_lexer": "ipython3",
   "version": "3.7.3"
  }
 },
 "nbformat": 4,
 "nbformat_minor": 2
}
