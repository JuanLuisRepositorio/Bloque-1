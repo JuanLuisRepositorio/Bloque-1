{
 "cells": [
  {
   "cell_type": "code",
   "execution_count": 1,
   "metadata": {},
   "outputs": [],
   "source": [
    "import statistics"
   ]
  },
  {
   "cell_type": "code",
   "execution_count": 2,
   "metadata": {},
   "outputs": [
    {
     "name": "stdout",
     "output_type": "stream",
     "text": [
      "Nuestros resultados son:\n",
      " media: 148.716\n",
      " mediana: 110.5\n",
      "desviacion estandar: 127.03062056055619\n"
     ]
    }
   ],
   "source": [
    "#Ejemplo 5\n",
    "import statistics\n",
    "\n",
    "importes = [10,201,345,123,345.56,32.3,19.3,235,98,78]\n",
    "\n",
    "media = statistics.mean(importes)\n",
    "mediana = statistics.median(importes)\n",
    "desviacion_estandar = statistics.stdev(importes)\n",
    "\n",
    "print(\"Nuestros resultados son:\\n media: \"+ str(media)  +\"\\n mediana: \" + str(mediana) + \"\\ndesviacion estandar: \" + str(desviacion_estandar))\n"
   ]
  },
  {
   "cell_type": "code",
   "execution_count": null,
   "metadata": {},
   "outputs": [],
   "source": []
  }
 ],
 "metadata": {
  "kernelspec": {
   "display_name": "Python 3",
   "language": "python",
   "name": "python3"
  },
  "language_info": {
   "codemirror_mode": {
    "name": "ipython",
    "version": 3
   },
   "file_extension": ".py",
   "mimetype": "text/x-python",
   "name": "python",
   "nbconvert_exporter": "python",
   "pygments_lexer": "ipython3",
   "version": "3.7.3"
  }
 },
 "nbformat": 4,
 "nbformat_minor": 2
}
