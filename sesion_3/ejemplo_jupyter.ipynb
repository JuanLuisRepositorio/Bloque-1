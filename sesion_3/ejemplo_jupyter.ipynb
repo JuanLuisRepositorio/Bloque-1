
#Ejemplo 5
numeros = [1, 2, 3, 4, 5, 6, 7, 8, 9
,10, 11, 12, 13, 14] #Creamos la lista con números
for num in numeros: #En la variable "num" almacenamos los ítem de la lista
    if num % 2 == 0: #Condición: Si el resto de la división por dos es cero entonces:
        print (num) # Imprimimos la variable num
