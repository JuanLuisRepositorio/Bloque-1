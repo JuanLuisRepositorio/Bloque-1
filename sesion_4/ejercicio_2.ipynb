{
 "cells": [
  {
   "cell_type": "markdown",
   "metadata": {},
   "source": [
    "# Ejemplo recopilatorio"
   ]
  },
  {
   "cell_type": "markdown",
   "metadata": {},
   "source": [
    "## 1.- Funciones y librerías"
   ]
  },
  {
   "cell_type": "markdown",
   "metadata": {},
   "source": [
    "## 1.1.- Importamos librerías "
   ]
  },
  {
   "cell_type": "code",
   "execution_count": 9,
   "metadata": {},
   "outputs": [],
   "source": [
    "import csv\n",
    "import statistics"
   ]
  },
  {
   "cell_type": "markdown",
   "metadata": {},
   "source": [
    "## 1.2.- Creamos una función "
   ]
  },
  {
   "cell_type": "code",
   "execution_count": 10,
   "metadata": {},
   "outputs": [],
   "source": [
    "def numero_mayor(listado):\n",
    "    listado.sort(reverse = True)\n",
    "    return listado[0]"
   ]
  },
  {
   "cell_type": "markdown",
   "metadata": {},
   "source": [
    "Añade aqui la nueva función"
   ]
  },
  {
   "cell_type": "code",
   "execution_count": 32,
   "metadata": {},
   "outputs": [],
   "source": []
  },
  {
   "cell_type": "markdown",
   "metadata": {},
   "source": [
    "## 1.3.- Variable de control"
   ]
  },
  {
   "cell_type": "markdown",
   "metadata": {},
   "source": [
    "Definimos el valor de nuestra variable inicial"
   ]
  },
  {
   "cell_type": "code",
   "execution_count": 12,
   "metadata": {},
   "outputs": [],
   "source": [
    "control = 500000"
   ]
  },
  {
   "cell_type": "markdown",
   "metadata": {},
   "source": [
    "# 2.- Abrimos nuestro fichero de texto"
   ]
  },
  {
   "cell_type": "markdown",
   "metadata": {},
   "source": [
    "Vemos que archivos tenemos en nuestra carpeta de trabajo"
   ]
  },
  {
   "cell_type": "code",
   "execution_count": 29,
   "metadata": {
    "scrolled": true
   },
   "outputs": [
    {
     "name": "stdout",
     "output_type": "stream",
     "text": [
      "\u001b[0m\u001b[01;34mcondiconales_bucles\u001b[0m/                 otros_operadores_ejercicio.py\r\n",
      "ejercicio_1.py                       otros_operadores.py\r\n",
      "ejercicio_2.py                       prueba.ipynb\r\n",
      "\u001b[01;34mList\u001b[0m/                                README.md\r\n",
      "lista_numeros.txt                    \u001b[01;34msesion_3\u001b[0m/\r\n",
      "list_exercise.py                     \u001b[01;34msesion_4\u001b[0m/\r\n",
      "list.py                              Variables_and_Types_Exercise.py\r\n",
      "operadores_aritmeticos_ejercicio.py  Variables_and_Types.py\r\n",
      "operators_aritmeticos.py\r\n"
     ]
    }
   ],
   "source": [
    "ls"
   ]
  },
  {
   "cell_type": "markdown",
   "metadata": {},
   "source": [
    "Creamos una lista vacia"
   ]
  },
  {
   "cell_type": "code",
   "execution_count": 14,
   "metadata": {},
   "outputs": [],
   "source": [
    "lista_numeros = []"
   ]
  },
  {
   "cell_type": "markdown",
   "metadata": {},
   "source": [
    "Cargamos el archivo que me interesa"
   ]
  },
  {
   "cell_type": "code",
   "execution_count": 17,
   "metadata": {},
   "outputs": [],
   "source": [
    "with open('./lista_numeros.txt') as csv_file:\n",
    "    csv_reader = csv.reader(csv_file, delimiter='\\n')\n",
    "    for row in csv_reader:\n",
    "        lista_numeros.append(int(row[0]))"
   ]
  },
  {
   "cell_type": "markdown",
   "metadata": {},
   "source": [
    "# 3.- Cálculos"
   ]
  },
  {
   "cell_type": "markdown",
   "metadata": {},
   "source": [
    "Visualizamos los datos"
   ]
  },
  {
   "cell_type": "code",
   "execution_count": 31,
   "metadata": {},
   "outputs": [
    {
     "data": {
      "text/plain": [
       "[23448476,\n",
       " 23448476,\n",
       " 19334771,\n",
       " 16248434,\n",
       " 16248434,\n",
       " 13496879,\n",
       " 13274710,\n",
       " 13274710,\n",
       " 8767370,\n",
       " 7650548,\n",
       " 7650548,\n",
       " 4801446,\n",
       " 4801446,\n",
       " 4225939,\n",
       " 4225939,\n",
       " 3105308,\n",
       " 3105308,\n",
       " 2223555,\n",
       " 1819714,\n",
       " 1819714,\n",
       " 1257397,\n",
       " 1200876,\n",
       " 1074424,\n",
       " 1074424,\n",
       " 591458,\n",
       " 312443,\n",
       " 265088,\n",
       " 259028,\n",
       " 211359,\n",
       " 188415,\n",
       " 169985,\n",
       " 156640,\n",
       " 94795,\n",
       " 87466,\n",
       " 87466,\n",
       " 79565,\n",
       " 79565,\n",
       " 78813,\n",
       " 78813,\n",
       " 72168,\n",
       " 70828,\n",
       " 68456,\n",
       " 68456,\n",
       " 64450,\n",
       " 63250,\n",
       " 62875,\n",
       " 62875,\n",
       " 45129,\n",
       " 35718,\n",
       " 35718,\n",
       " 35305,\n",
       " 30994,\n",
       " 28187,\n",
       " 28187,\n",
       " 23389,\n",
       " 20309,\n",
       " 15437,\n",
       " 14712,\n",
       " 14280,\n",
       " 12777,\n",
       " 12777,\n",
       " 10820,\n",
       " 10663,\n",
       " 10663,\n",
       " 9114,\n",
       " 9114,\n",
       " 9097,\n",
       " 9097,\n",
       " 8408,\n",
       " 8408,\n",
       " 8132,\n",
       " 8132,\n",
       " 5254,\n",
       " 5254,\n",
       " 4561,\n",
       " 3724,\n",
       " 3724,\n",
       " 2257,\n",
       " 2145,\n",
       " 2145,\n",
       " 1539,\n",
       " 1539,\n",
       " 1428,\n",
       " 1428,\n",
       " 558,\n",
       " 558,\n",
       " 558,\n",
       " 558,\n",
       " 519,\n",
       " 519,\n",
       " 315,\n",
       " 238,\n",
       " 206,\n",
       " 206,\n",
       " 0,\n",
       " 0,\n",
       " 0,\n",
       " 0,\n",
       " 0,\n",
       " 0,\n",
       " 0,\n",
       " 0,\n",
       " 0,\n",
       " 0,\n",
       " 0,\n",
       " 0,\n",
       " 0,\n",
       " 0,\n",
       " 0,\n",
       " 0,\n",
       " 0,\n",
       " 0,\n",
       " 0]"
      ]
     },
     "execution_count": 31,
     "metadata": {},
     "output_type": "execute_result"
    }
   ],
   "source": [
    "lista_numeros"
   ]
  },
  {
   "cell_type": "markdown",
   "metadata": {},
   "source": [
    "Calculamos en funciión de la siguiente ecuación:"
   ]
  },
  {
   "cell_type": "markdown",
   "metadata": {},
   "source": [
    "$SEM = \\frac{SD}{\\sqrt{n}}$"
   ]
  },
  {
   "cell_type": "markdown",
   "metadata": {},
   "source": [
    "SEM = Error estándar de la media <br/>\n",
    "SD = Desviación estándar <br/>\n",
    "n = tamaño de la muestra <br/>"
   ]
  },
  {
   "cell_type": "code",
   "execution_count": 37,
   "metadata": {},
   "outputs": [],
   "source": [
    "resultado_estandar_media = None"
   ]
  },
  {
   "cell_type": "code",
   "execution_count": 46,
   "metadata": {},
   "outputs": [
    {
     "name": "stdout",
     "output_type": "stream",
     "text": [
      "La media es: 1781831\n"
     ]
    }
   ],
   "source": [
    "if lista_numeros != []:\n",
    "    if resultado_estandar_media < control:\n",
    "        resultado = statistics.mean(lista_numeros)\n",
    "        print(\"La media es: \" + str(resultado))\n",
    "    else:\n",
    "        resultado = statistics.median(lista_numeros)\n",
    "        print(\"La mediana es: \" + str(resultado))\n",
    "else:\n",
    "    print(\"Nuestra lista de númeroes esta vacia\")    "
   ]
  }
 ],
 "metadata": {
  "kernelspec": {
   "display_name": "Python 3",
   "language": "python",
   "name": "python3"
  },
  "language_info": {
   "codemirror_mode": {
    "name": "ipython",
    "version": 3
   },
   "file_extension": ".py",
   "mimetype": "text/x-python",
   "name": "python",
   "nbconvert_exporter": "python",
   "pygments_lexer": "ipython3",
   "version": "3.7.3"
  }
 },
 "nbformat": 4,
 "nbformat_minor": 2
}
