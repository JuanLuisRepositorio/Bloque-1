{
 "cells": [
  {
   "cell_type": "markdown",
   "metadata": {
    "colab_type": "text",
    "id": "view-in-github"
   },
   "source": [
    "<a href=\"https://colab.research.google.com/github/ProjectSupervisaPrivate/Bloque-1/blob/master/prueba.ipynb\" target=\"_parent\"><img src=\"https://colab.research.google.com/assets/colab-badge.svg\" alt=\"Open In Colab\"/></a>"
   ]
  },
  {
   "cell_type": "code",
   "execution_count": 3,
   "metadata": {
    "colab": {},
    "colab_type": "code",
    "id": "2UNFEp1cHSLS"
   },
   "outputs": [],
   "source": [
    "# Escribe tu propio codigo aqui\n",
    "micadena = None\n",
    "mireal = None\n",
    "mientero = None\n",
    "\n",
    "'''\n",
    "NO TOCAR !!!\n",
    "'''\n",
    "# probando el codigo\n",
    "if micadena == \"hola\":\n",
    "    print (\"Cadena: \" + micadena)\n",
    "if isinstance(mireal, float) and mireal == 10.0:\n",
    "    print (\"Real: \" + str(mireal))\n",
    "if isinstance(mientero, int) and mientero == 20:\n",
    "    print (\"Entero: \" + str(mientero))"
   ]
  },
  {
   "cell_type": "code",
   "execution_count": 4,
   "metadata": {},
   "outputs": [
    {
     "name": "stdout",
     "output_type": "stream",
     "text": [
      "None\n"
     ]
    }
   ],
   "source": [
    "print(mientero)"
   ]
  },
  {
   "cell_type": "code",
   "execution_count": null,
   "metadata": {},
   "outputs": [],
   "source": []
  }
 ],
 "metadata": {
  "colab": {
   "include_colab_link": true,
   "name": "Untitled0.ipynb",
   "provenance": []
  },
  "kernelspec": {
   "display_name": "Python 3",
   "language": "python",
   "name": "python3"
  },
  "language_info": {
   "codemirror_mode": {
    "name": "ipython",
    "version": 3
   },
   "file_extension": ".py",
   "mimetype": "text/x-python",
   "name": "python",
   "nbconvert_exporter": "python",
   "pygments_lexer": "ipython3",
   "version": "3.7.3"
  }
 },
 "nbformat": 4,
 "nbformat_minor": 1
}
